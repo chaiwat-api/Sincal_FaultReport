{
  "nbformat": 4,
  "nbformat_minor": 0,
  "metadata": {
    "colab": {
      "provenance": [],
      "authorship_tag": "ABX9TyNpTlMbeKkNU9zOYb4J8JO2",
      "include_colab_link": true
    },
    "kernelspec": {
      "name": "python3",
      "display_name": "Python 3"
    },
    "language_info": {
      "name": "python"
    }
  },
  "cells": [
    {
      "cell_type": "markdown",
      "metadata": {
        "id": "view-in-github",
        "colab_type": "text"
      },
      "source": [
        "<a href=\"https://colab.research.google.com/github/chaiwat-api/Sincal_FaultReport/blob/main/create_blank_file.ipynb\" target=\"_parent\"><img src=\"https://colab.research.google.com/assets/colab-badge.svg\" alt=\"Open In Colab\"/></a>"
      ]
    },
    {
      "cell_type": "markdown",
      "source": [
        "# **สร้างไฟล์ blank Excel**"
      ],
      "metadata": {
        "id": "2OsH3XyIixuG"
      }
    },
    {
      "cell_type": "code",
      "execution_count": null,
      "metadata": {
        "id": "ZAovK3lAiPF1",
        "colab": {
          "base_uri": "https://localhost:8080/"
        },
        "outputId": "b6a1fc6e-fc4c-46fa-d2d4-85d2288be6f7"
      },
      "outputs": [
        {
          "output_type": "stream",
          "name": "stdout",
          "text": [
            "Mounted at /content/drive\n"
          ]
        }
      ],
      "source": [
        "from google.colab import drive\n",
        "drive.mount('/content/drive')"
      ]
    },
    {
      "cell_type": "markdown",
      "source": [
        "https://colab.research.google.com/notebooks/forms.ipynb#scrollTo=aw5lgeRbubeF"
      ],
      "metadata": {
        "id": "J308ziJytAI1"
      }
    },
    {
      "cell_type": "code",
      "source": [
        "# @markdown ---\n",
        "# @markdown ### Enter a file path:\n",
        "file_path = \"/content/drive/MyDrive/KAIZEN/KAIZEN 2024/output/monthly_fault_report.xlsx\" # @param {type:\"string\"}\n",
        "# @markdown ---"
      ],
      "metadata": {
        "id": "xl-XQQMCsbh8"
      },
      "execution_count": null,
      "outputs": []
    },
    {
      "cell_type": "code",
      "source": [
        "from openpyxl import Workbook\n",
        "\n",
        "# create a workbook as .xlsx file\n",
        "def create_workbook(path):\n",
        "   workbook = Workbook()\n",
        "   sheet = workbook.active\n",
        "   sheet.title = \"Info\"\n",
        "   sheet['A1'] = \"This file is created for collecting monthly fault report from PSS®SINCAL\"\n",
        "   sheet['A3'] = \"Created by Power System Analysis Section\"\n",
        "   sheet['A4'] = \"2024\"\n",
        "   workbook.save(path)\n",
        "\n",
        "if __name__ == \"__main__\":\n",
        "\n",
        "   create_workbook(file_path)\n",
        "\n",
        "print(\"File Created Successfully\")"
      ],
      "metadata": {
        "id": "FiUc2i46iUFh",
        "colab": {
          "base_uri": "https://localhost:8080/"
        },
        "outputId": "b3a84945-c420-41be-9fa6-c73d5e526f03"
      },
      "execution_count": null,
      "outputs": [
        {
          "output_type": "stream",
          "name": "stdout",
          "text": [
            "File Created Successfully\n"
          ]
        }
      ]
    }
  ]
}